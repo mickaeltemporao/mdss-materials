{
  "nbformat": 4,
  "nbformat_minor": 0,
  "metadata": {
    "colab": {
      "name": "projet-de-recherche-groupe-0",
      "provenance": [],
      "collapsed_sections": [],
      "toc_visible": true,
      "include_colab_link": true
    },
    "kernelspec": {
      "display_name": "Python 3",
      "name": "python3"
    }
  },
  "cells": [
    {
      "cell_type": "markdown",
      "metadata": {
        "id": "view-in-github",
        "colab_type": "text"
      },
      "source": [
        "<a href=\"https://colab.research.google.com/github/mickaeltemporao/mdss-materials/blob/main/projet-de-recherche.ipynb\" target=\"_parent\"><img src=\"https://colab.research.google.com/assets/colab-badge.svg\" alt=\"Open In Colab\"/></a>"
      ]
    },
    {
      "cell_type": "markdown",
      "metadata": {
        "id": "41uHHnDVaHpf"
      },
      "source": [
        "Consignes à supprimmer avant de partager le doucment.\n",
        "\n",
        "**ATTENTION**: N'oubliez pas de sauvegarder une copie de ce document dans votre drive avant de commencer à étider ce document!\n",
        "\n",
        "- Pour votre projet de recherche vous devez identifier une problématique et formuler une question de recherche en **comportement politique et/ou opinion publique**.\n",
        "- Vous avez formulé une hypothèse\n",
        "- Vous avez identifié la variable dépendante (VD) et la variable indépendante (VI).\n",
        "    - VD: le phénomène que vous souhaitez expliquer\n",
        "    - VI: ce qui permet d'expliquer (~hypothèse)\n",
        "- Le projet contient un minimum de **5 références d'articles scientifiques** pertinentes.\n",
        "- Les références scientifiques sont **utilisées adéquatement** et mises en perspectives dans le projet.\n",
        "- Les références dans le texte et la bibliographie sont correctement mises en forme au **format de citation [APA](https://www.mendeley.com/guides/apa-citation-guide)**.\n",
        "- Le projet de recherche fait maximum **500 mots (~2 pages)**.\n",
        "\n",
        "NB:\n",
        "- 1 page = ~5 paragraphes\n",
        "- 1 paragraphe = ~5 phrases\n",
        "- 1 phrase = ~20 mots\n",
        "\n",
        "---\n"
      ]
    },
    {
      "cell_type": "markdown",
      "metadata": {
        "id": "HloPuO4S9qNT"
      },
      "source": [
        "# Titre du projet\n",
        "## Un sous-titre optionnel\n",
        "### Projet de recherche - Groupe 0 \n",
        "#### Nom Prénom, Nom Prénom et ...\n"
      ]
    },
    {
      "cell_type": "markdown",
      "metadata": {
        "id": "nkdS80Fo95cx"
      },
      "source": [
        "# Introduction\n",
        "3 à 5 Paragraphes d'introduction où vous présentez un aperçu de votre projet.\n",
        "\n",
        "## Motivation\n",
        "Cette section comprendra une brève description de ce que l'étude vise à tester ou à découvrir. Si cette étude construit une autre expérience, mentionnez-la ici.\n",
        "\n",
        "- Ancrage théorique et travaux existants sur le sujet.\n",
        "    - Présentez quelques articles sur votre sujet pour constituer une base théorique.\n",
        "    - À ce stade, vous n'avez pas le temps d'effectuer une revue exhaustive de la littérature.\n",
        "    - Utilisez ces articles pour faire valoir votre projet.\n",
        "- Quelle est votre question de recherche/problématique?\n",
        "    - Pourquoi est-ce important de s'y intéresser?\n",
        "\n",
        "## Hypothèse\n",
        "Formulez au moins une hypothèse. \n",
        "- Si x alors y, où y est le phénomène que vous tentez d'expliquer et x est ce qui explique y. \n",
        "- Quels sont vos attentes en sachant ce que vous savez aujourd'hui?"
      ]
    },
    {
      "cell_type": "markdown",
      "metadata": {
        "id": "2msmtAgx-MdP"
      },
      "source": [
        "# Données et Méthode \n",
        "3 à 5 paragraphes ou vous présentez les ddonnées que vous allez collecter et votre démarche méthodologique. Similaire à une recette de cuisine: vous avez besoin d'ingrédients et d'étapes de préparation.\n",
        "\n",
        "**Dans le cadre du travail du premier semestre, vous devez réaliser une revue systématique de la littérature (*systematic literature review*) scientifique portant sur objet de recherche.**\n",
        "\n",
        "1. Justifier pourquoi cette méthode est pertinente pour répondre à votre question\n",
        "\n",
        "2.  Comment allez-vous sélectionner et collecter les données pour répondre à votre question? \n",
        "    - Quels outils allez vous utiliser?\n",
        "    - Quels sont vos critère de sélection?\n",
        "    - Quelle est la période de collecte de vos données?\n",
        "    - Quels sont les critères pour sélectionner les données qui constitueront votre échantillon?\n",
        "    - Quelle sera la taille de l'échantillon pour votre étude? \n",
        "\n",
        "3. Comment allez-vous gérer les biais potentiels?\n",
        "    - Quels biais pouvez-vous anticiper?\n",
        "    - Comment allez-vous gérer ce(s) biais?\n",
        "    - Comment allez vous contrôler la qualité des données? \n",
        "    - Avez vous un biais personnel par rapport au sujet étudié?\n"
      ]
    },
    {
      "cell_type": "markdown",
      "metadata": {
        "id": "1hA3nPS1-SYt"
      },
      "source": [
        "# Conclusion et discussion\n",
        "\n",
        "1 à 2 paragraphes où vous présentez vos attentes en termes de résultats (aidez vous de vos hypothèses).\n",
        "\n",
        "- Quelles sont les inconnues et risques à ce stade?\n",
        "- Quelles sont les limites de votre projet de recherche?\n",
        "- Comment pourrait-on l'améliorer davantage?"
      ]
    },
    {
      "cell_type": "markdown",
      "metadata": {
        "id": "ULNCbfnP-UKT"
      },
      "source": [
        "# Bibliographie\n",
        "\n",
        "- Vous devez lister TOUTES les sources auxquelles vous faites référence directement ou indirectement dans votre projet.\n",
        "- Vous devez utiliser le format [APA](https://www.mendeley.com/guides/apa-citation-guide) tant pour les citations dans le texte que pour la bibliogrpahie.\n",
        "\n",
        "\n"
      ]
    }
  ]
}