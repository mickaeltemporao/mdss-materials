{
  "nbformat": 4,
  "nbformat_minor": 0,
  "metadata": {
    "colab": {
      "name": "Projet de recherche.ipynb",
      "provenance": [],
      "authorship_tag": "ABX9TyPRWgQ1EPHQGTiuPFY4AmP4",
      "include_colab_link": true
    },
    "kernelspec": {
      "name": "python3",
      "display_name": "Python 3"
    },
    "language_info": {
      "name": "python"
    }
  },
  "cells": [
    {
      "cell_type": "markdown",
      "metadata": {
        "id": "view-in-github",
        "colab_type": "text"
      },
      "source": [
        "<a href=\"https://colab.research.google.com/github/mickaeltemporao/methodes-sciences-sociales-materials/blob/main/projet-de-recherche.ipynb\" target=\"_parent\"><img src=\"https://colab.research.google.com/assets/colab-badge.svg\" alt=\"Open In Colab\"/></a>"
      ]
    },
    {
      "cell_type": "markdown",
      "metadata": {
        "id": "UHVqgKxAUE-t"
      },
      "source": [
        "### TP1 - Le projet de recherche\n",
        "\n",
        "#### Consignes :\n",
        "- Le projet porte sur une **problématique en sciences sociales**.\n",
        "- La problématique peut être explorée à partir de **données existantes**.\n",
        "- Le projet contient **5 références d'articles scientifiques** pertinentes ou plus.\n",
        "- Les références sont **citées adéquatement** et mises en perspectives dans le projet.\n",
        "- Le projet de recherche complet doit faire **2 pages**.\n",
        "- Tout ce qui se trouve au-dessus du titre du projet est **à supprimer**.\n",
        "\n",
        "##### À titre informatif:\n",
        "- 1 page = ~ 5 paragraphes\n",
        "- 1 paragraphe = ~ 5 phrases\n",
        "- 1 phrase = ~ 20 mots\n",
        "- Utilisation du style [APA](https://www.mendeley.com/guides/apa-citation-guide) pour les références dans le texte et la bibliographie.\n",
        "\n",
        "---\n",
        "\n",
        "# TITRE DU PROJET\n",
        "\n",
        "## Introduction (3 à 5 paragraphes)\n",
        "\n",
        "Paragraphes d'introduction ou vous présentez un aperçu de votre projet.\n",
        "\n",
        "- Ancrage théorique et travaux existants sur le sujet.\n",
        "    - Vous n'avez pas le temps d'effectuer une revue exhaustive de la littérature.\n",
        "    - Présentez quelques articles sur votre sujet pour constituer une base théorique.\n",
        "    - Utilisez ces articles pour faire valoir votre étude ou montrer pourquoi votre étude est importante\n",
        "- Quelle est votre question de recherche/problématique?\n",
        "- Pourquoi est-ce important d'étudier cette question/problème?\n",
        "- Qu'espérez-vous découvrir en faisant cette étude?\n",
        "- Quelles sont vos hypothèses?\n",
        "\n",
        "## Données et méthode (3 à 5 paragraphes)\n",
        "\n",
        "Présentez vos données et votre démarche méthodologique. Similaire à une recette de cuisine: vous avez besoin d'ingrédients et d'étapes de préparation.\n",
        "\n",
        "#### Population et échantillon d'étude\n",
        "\n",
        "- Comment allez-vous sélectionner les cas pour votre étude? Pourquoi?\n",
        "- Quels critères utiliserez-vous pour sélectionner les cas qui constituerons votre échantillon?\n",
        "- Quelle sera la taille de l'échantillon pour votre étude?\n",
        "\n",
        "#### Méthodologie de la recherche\n",
        "\n",
        "- Quel type d'étude allez-vous effectuer? (une étude de cas, une exploration d'un thème, ...)?\n",
        "- Pourquoi est-ce que la méthode qualitative est pertinente pour répondre à cette question (aidez-vous de l'introduction)?\n",
        "- Quelles seront vos sources de données?\n",
        "- Comment allez-vous collecter les données? Sur quelle période?\n",
        "- Comment allez-vous analyser/coder les données?\n",
        "\n",
        "#### Biais, éthique et gestion des données\n",
        "\n",
        "- Comment allez-vous gérer les biais et contrôler la qualité de l'étude?\n",
        "    - Quels biais prévoyez-vous?\n",
        "    - Comment allez-vous gérer ce(s) biais?\n",
        "- Où vous vous situez en tant que chercheur par rapport au sujet étudié?\n",
        "- Comment allez-vous gérer et stocker les données que vous collectez (sécuriser les données)?\n",
        "\n",
        "## Discussion (1 à 2 paragraphes)\n",
        "\n",
        "Présentez vos attentes en termes de résultats (aides vous de vos hypothèses).\n",
        "\n",
        "- Quelles sont les inconnues et risques à ce stades?\n",
        "- Quelles sont les limites de votre projet de recherche?\n",
        "- Comment pourrait l'améliorer davantage?\n",
        "- Que pourrait-on changer ou faire différemment?\n",
        "\n",
        "## Bibliographie\n",
        "- Listez TOUTES les sources auxquelles vous faites référence directement ou indirectement dans votre projet (format [APA](https://www.mendeley.com/guides/apa-citation-guide))."
      ]
    }
  ]
}