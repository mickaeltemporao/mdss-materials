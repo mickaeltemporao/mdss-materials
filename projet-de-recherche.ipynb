{
  "nbformat": 4,
  "nbformat_minor": 0,
  "metadata": {
    "colab": {
      "name": "Projet de recherche - Groupe 1234",
      "provenance": [],
      "collapsed_sections": [],
      "toc_visible": true,
      "include_colab_link": true
    },
    "kernelspec": {
      "display_name": "Python 3",
      "name": "python3"
    }
  },
  "cells": [
    {
      "cell_type": "markdown",
      "metadata": {
        "id": "view-in-github",
        "colab_type": "text"
      },
      "source": [
        "<a href=\"https://colab.research.google.com/github/mickaeltemporao/methodes-sciences-sociales-materials/blob/main/projet-de-recherche.ipynb\" target=\"_parent\"><img src=\"https://colab.research.google.com/assets/colab-badge.svg\" alt=\"Open In Colab\"/></a>"
      ]
    },
    {
      "cell_type": "markdown",
      "metadata": {
        "id": "HloPuO4S9qNT"
      },
      "source": [
        "# Titre du projet\n",
        "\n",
        "Nom Prénom, Nom Prénom et ...\n"
      ]
    },
    {
      "cell_type": "markdown",
      "metadata": {
        "id": "nkdS80Fo95cx"
      },
      "source": [
        "# Introduction\n",
        "\n",
        "Paragraphes d'introduction dans lesquelles vous présentez un aperçu de votre projet.\n",
        "\n",
        "- Ancrage théorique et travaux existants sur le sujet.\n",
        "    - Vous n'avez pas le temps d'effectuer une revue exhaustive de la littérature.\n",
        "    - Présentez quelques articles sur votre sujet pour constituer une base théorique.\n",
        "    - Utilisez ces articles pour faire valoir votre étude ou montrer pourquoi votre étude est importante\n",
        "- Quelle est votre question de recherche/problématique?\n",
        "    - Pourquoi est-ce important de s'intéresser à celle-ci?\n",
        "- Quelles sont vos hypothèses?\n",
        "    - À quoi est-ce que vous vous attendez sachant ce que la théorie nous dit actuellement?\n",
        "\n"
      ]
    },
    {
      "cell_type": "markdown",
      "metadata": {
        "id": "2msmtAgx-MdP"
      },
      "source": [
        "# Données et méthode \n",
        "(3 à 5 paragraphes)\n",
        "\n",
        "Présentez vos données et votre démarche méthodologique. Similaire à une recette de cuisine: vous avez besoin d'ingrédients et d'étapes de préparation.\n",
        "\n",
        "## Population et échantillon d'étude\n",
        "\n",
        "- Comment allez-vous sélectionner les cas/observations pour votre étude? Pourquoi?\n",
        "    - Quels sont les critères pour sélectionner les cas qui constitueront votre échantillon?\n",
        "- Quelle sera la taille de l'échantillon pour votre étude? Pourquoi?\n",
        "\n",
        "## Méthodologie de la recherche\n",
        "\n",
        "- Quel type d'étude allez-vous effectuer? (une étude de cas, une exploration d'un thème, ...)?\n",
        "- Pourquoi est-ce que la méthode proposé est pertinente pour répondre à votre question?\n",
        "- Quelles seront vos sources de données?\n",
        "- Comment allez-vous collecter les données? Sur quelle période?\n",
        "- Comment allez-vous analyser/coder les données?\n",
        "\n",
        "## Biais, éthique et gestion des données\n",
        "\n",
        "- Comment allez-vous gérer les biais et contrôler la qualité de l'étude?\n",
        "    - Quels biais prévoyez-vous?\n",
        "    - Comment allez-vous gérer ce(s) biais?\n",
        "- Où vous vous situez en tant que chercheur par rapport au sujet étudié?\n",
        "- Comment allez-vous gérer et stocker les données que vous collectez (sécuriser les données)?\n"
      ]
    },
    {
      "cell_type": "markdown",
      "metadata": {
        "id": "5elnJZeJ-RVA"
      },
      "source": [
        "# Analyse et résultats\n",
        "\n"
      ]
    },
    {
      "cell_type": "markdown",
      "metadata": {
        "id": "1hA3nPS1-SYt"
      },
      "source": [
        "# Conclusion et discussion\n",
        "\n",
        "Présentez vos attentes en termes de résultats (aides vous de vos hypothèses).\n",
        "\n",
        "- Quelles sont les inconnues et risques à ce stades?\n",
        "- Quelles sont les limites de votre projet de recherche?\n",
        "- Comment pourrait l'améliorer davantage?"
      ]
    },
    {
      "cell_type": "markdown",
      "metadata": {
        "id": "ULNCbfnP-UKT"
      },
      "source": [
        "# Bibliographie\n",
        "\n",
        "- Vous devez lister TOUTES les sources auxquelles vous faites référence directement ou indirectement dans votre projet.\n",
        "- Vous devez utiliser le format APA tant pour les citations que pour la bibliogrpahie.\n",
        "    - Voir https://www.mendeley.com/guides/apa-citation-guide\n",
        "\n",
        "\n"
      ]
    }
  ]
}
