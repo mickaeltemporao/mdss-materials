{
  "nbformat": 4,
  "nbformat_minor": 0,
  "metadata": {
    "colab": {
      "name": "Rapport-de-collecte-Groupe-0",
      "provenance": [],
      "authorship_tag": "ABX9TyMb4oLTcbRZYIlYCXGS26Mw",
      "include_colab_link": true
    },
    "kernelspec": {
      "name": "python3",
      "display_name": "Python 3"
    },
    "language_info": {
      "name": "python"
    }
  },
  "cells": [
    {
      "cell_type": "markdown",
      "metadata": {
        "id": "view-in-github",
        "colab_type": "text"
      },
      "source": [
        "<a href=\"https://colab.research.google.com/github/mickaeltemporao/methodes-sciences-sociales-materials/blob/main/rapport-de-collecte.ipynb\" target=\"_parent\"><img src=\"https://colab.research.google.com/assets/colab-badge.svg\" alt=\"Open In Colab\"/></a>"
      ]
    },
    {
      "cell_type": "markdown",
      "metadata": {
        "id": "HCRy_02ip9ab"
      },
      "source": [
        "Consignes à supprimmer avant de partager le doucment.\n",
        "\n",
        "- Le rapport commence par **rappeler la question de recherche** brièvement.\n",
        "- Les références scientifiques sont **utilisées adéquatement** et mises en perspectives dans le projet.\n",
        "- Les références dans le texte et la bibliographie sont correctement **mises en forme au format de citation [APA](https://www.mendeley.com/guides/apa-citation-guide)**.\n",
        "- Le rapport de collecte fait maximum **500 mots (~1 pages)**.\n",
        "\n",
        "NB:\n",
        "- 1 page = ~5 paragraphes\n",
        "- 1 paragraphe = ~5 phrases\n",
        "- 1 phrase = ~20 mots\n",
        "\n",
        "---\n"
      ]
    },
    {
      "cell_type": "markdown",
      "metadata": {
        "id": "sEmjhfuBqzCn"
      },
      "source": [
        "# Titre du projet\n",
        "## Un sous titre optionnel\n",
        "### Rapport de collecte- Groupe 0\n",
        "#### Nom Prénom, Nom Prénom et ...\n"
      ]
    },
    {
      "cell_type": "markdown",
      "metadata": {
        "id": "P_QbH3i3icjF"
      },
      "source": [
        "# Données\n",
        "- Quels types de données avez-vous collectées? \n",
        "- Quels critères avez-vous utilisés pour décider si une observation/cas fait partie de votre échantillon de données?\n",
        "    - Pourquoi est-ce que ces critères sont pertinents?\n",
        "    - Comment avez-vous collecté vos données?\n",
        "    - Combien d'observations/cas avez-vous au total?\n",
        "- Mise en avant de la pertinence des données.\n",
        "    - Pourquoi est-ce que les données que vous avez récoltées vont vous permettre de tester vos hypothèses? C'est-à-dire d'accroitre la confiance générale que votre hypothèse est vraie ou fausse.\n",
        "    \n"
      ]
    },
    {
      "cell_type": "markdown",
      "metadata": {
        "id": "455eL7FkjvtG"
      },
      "source": [
        "# Limites        \n",
        "- Présentez les problèmes/enjeux liés à votre collecte de données.\n",
        "- Est-ce que vous avez adapté votre collecte par rapport à votre projet initial?\n",
        "- Est-ce que vous avez rencontré des problèmes particuliers lors de votre collecte? Comment les avez surmontés?\n"
      ]
    },
    {
      "cell_type": "markdown",
      "metadata": {
        "id": "LZYJr6yFrA68"
      },
      "source": [
        "# Bibliographie\n",
        "\n",
        "- Doe, J. (1995). *Helping Students Doing Research: Designing a Template.* Some University Press.\n",
        "- Doe, J. (1995). *Helping Students Doing Research: Designing a Template.* Some University Press.\n",
        "- Doe, J. (1995). *Helping Students Doing Research: Designing a Template.* Some University Press.\n",
        "\n",
        "\n",
        "\n",
        "\n"
      ]
    }
  ]
}
