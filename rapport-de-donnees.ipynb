{
  "nbformat": 4,
  "nbformat_minor": 0,
  "metadata": {
    "colab": {
      "name": "Rapport de lecture - YYYY-MM-DD Groupe ABC",
      "provenance": [],
      "authorship_tag": "ABX9TyNndcGT0QXsS8hOJLMjHLJt",
      "include_colab_link": true
    },
    "kernelspec": {
      "name": "python3",
      "display_name": "Python 3"
    },
    "language_info": {
      "name": "python"
    }
  },
  "cells": [
    {
      "cell_type": "markdown",
      "metadata": {
        "id": "view-in-github",
        "colab_type": "text"
      },
      "source": [
        "<a href=\"https://colab.research.google.com/github/mickaeltemporao/methodes-sciences-sociales-materials/blob/main/rapport-de-lecture.ipynb\" target=\"_parent\"><img src=\"https://colab.research.google.com/assets/colab-badge.svg\" alt=\"Open In Colab\"/></a>"
      ]
    },
    {
      "cell_type": "markdown",
      "metadata": {
        "id": "sEmjhfuBqzCn"
      },
      "source": [
        "# Titre de l'article\n",
        "## Rapport de lecture - Groupe ...\n",
        "## Nom Prénom, Nom Prénom et ...\n",
        "\n",
        "> *\"Ramplacez ce texte par une citation pertinente de votre choix provenant de l'article.\"* (Auteur, Année, p.XX)"
      ]
    },
    {
      "cell_type": "markdown",
      "metadata": {
        "id": "HCRy_02ip9ab"
      },
      "source": [
        "Consignes à supprimmer avant de partager le doucment.\n",
        "\n",
        "- Le rapport de lecture fait maximum 500 mots (<2 pages)\n",
        "- Le rapport utilise le format de citations [APA](https://www.mendeley.com/guides/apa-citation-guide) pour les citations dans le texte et les références bibliographie.\n"
      ]
    },
    {
      "cell_type": "markdown",
      "metadata": {
        "id": "3s7y0sWJq7Bs"
      },
      "source": [
        "# Résumé\n",
        "\n",
        "- Sur quel sujet porte l'article?\n",
        "- À quel problème s'intéressent les auteurs?\n",
        "- Quels sont les points importants de cet article?\n",
        "\n"
      ]
    },
    {
      "cell_type": "markdown",
      "metadata": {
        "id": "uiF1ybURq82C"
      },
      "source": [
        "# Contribution\n",
        "\n",
        "- Que nous apporte cet article?\n",
        "- Où s'insère-t-il dans la littérature scientifique?\n",
        "\n"
      ]
    },
    {
      "cell_type": "markdown",
      "metadata": {
        "id": "2E3BWaltq-Qv"
      },
      "source": [
        "# Critique\n",
        "\n",
        "- Quels sont les forces et limites de l'article?\n",
        "- Qu'avez vous apprécié ou moins apprécié dans cet article?\n",
        "\n"
      ]
    },
    {
      "cell_type": "markdown",
      "metadata": {
        "id": "LZYJr6yFrA68"
      },
      "source": [
        "# Bibliographie\n",
        "\n",
        "- Doe, J. (1995). *Helping Students Doing Research: Designing a Template.* Some University Press.\n",
        "- Doe, J. (1995). *Helping Students Doing Research: Designing a Template.* Some University Press.\n",
        "- Doe, J. (1995). *Helping Students Doing Research: Designing a Template.* Some University Press.\n",
        "\n",
        "\n",
        "\n",
        "\n"
      ]
    }
  ]
}