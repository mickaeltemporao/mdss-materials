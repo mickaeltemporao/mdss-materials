{
  "nbformat": 4,
  "nbformat_minor": 0,
  "metadata": {
    "colab": {
      "name": "rapport-de-recherche-groupe-0",
      "provenance": [],
      "collapsed_sections": [],
      "toc_visible": true,
      "include_colab_link": true
    },
    "kernelspec": {
      "display_name": "Python 3",
      "name": "python3"
    }
  },
  "cells": [
    {
      "cell_type": "markdown",
      "metadata": {
        "id": "view-in-github",
        "colab_type": "text"
      },
      "source": [
        "<a href=\"https://colab.research.google.com/github/mickaeltemporao/methodes-sciences-sociales-materials/blob/main/rapport-de-recherche.ipynb\" target=\"_parent\"><img src=\"https://colab.research.google.com/assets/colab-badge.svg\" alt=\"Open In Colab\"/></a>"
      ]
    },
    {
      "cell_type": "markdown",
      "metadata": {
        "id": "xFpRyQQhs3r5"
      },
      "source": [
        "Consignes à supprimmer avant de partager le doucment.\n",
        "\n",
        "- Votre rapport de recherche doit apporter une réponse à la question de recherche et illustrer en quoi cela permet d'avancer les connaissances liées à votre problématique.\n",
        "- Les références scientifiques sont **utilisées adéquatement** et mises en perspectives dans le projet.\n",
        "- Les références dans le texte et la bibliographie sont correctement mises en forme au **format de citation [APA](https://www.mendeley.com/guides/apa-citation-guide)**.\n",
        "- Le rapport contient maximum 2 images.\n",
        "    - Vous pouvez mettre d'autres éléments pertinents en annexe.\n",
        "- Le rapport fait maximum **4000 mots (~8 pages)**.\n",
        "    - Sans compter les annexes et la bibliographie.\n",
        "\n",
        "NB:\n",
        "- 1 page = ~5 paragraphes\n",
        "- 1 paragraphe = ~5 phrases\n",
        "- 1 phrase = ~20 mots\n",
        "\n",
        "---\n"
      ]
    },
    {
      "cell_type": "markdown",
      "metadata": {
        "id": "HloPuO4S9qNT"
      },
      "source": [
        "# Titre du projet\n",
        "## Un sous-titre optionnel\n",
        "### Projet de recherche - Groupe 0 \n",
        "#### Nom Prénom, Nom Prénom et ..."
      ]
    },
    {
      "cell_type": "markdown",
      "metadata": {
        "id": "nkdS80Fo95cx"
      },
      "source": [
        "# Introduction\n"
      ]
    },
    {
      "cell_type": "markdown",
      "metadata": {
        "id": "2msmtAgx-MdP"
      },
      "source": [
        "# Données et méthode \n"
      ]
    },
    {
      "cell_type": "markdown",
      "metadata": {
        "id": "5elnJZeJ-RVA"
      },
      "source": [
        "# Analyse et résultats\n",
        "\n"
      ]
    },
    {
      "cell_type": "markdown",
      "metadata": {
        "id": "1hA3nPS1-SYt"
      },
      "source": [
        "# Conclusion et discussion\n"
      ]
    },
    {
      "cell_type": "markdown",
      "metadata": {
        "id": "ULNCbfnP-UKT"
      },
      "source": [
        "# Bibliographie\n"
      ]
    }
  ]
}
